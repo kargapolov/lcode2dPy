{
 "metadata": {
  "language_info": {
   "codemirror_mode": {
    "name": "ipython",
    "version": 3
   },
   "file_extension": ".py",
   "mimetype": "text/x-python",
   "name": "python",
   "nbconvert_exporter": "python",
   "pygments_lexer": "ipython3",
   "version": "3.7.3"
  },
  "orig_nbformat": 2,
  "kernelspec": {
   "name": "python3",
   "display_name": "Python 3.7.3 64-bit ('base': conda)",
   "metadata": {
    "interpreter": {
     "hash": "a474bbcb62d5bd69b7c712fe2a75db8c753fe212225b6956b600dd32d27fa289"
    }
   }
  }
 },
 "nbformat": 4,
 "nbformat_minor": 2,
 "cells": [
  {
   "source": [
    "### Test 1 for lcode 3d with a single time step and an alternative beam generator."
   ],
   "cell_type": "markdown",
   "metadata": {}
  },
  {
   "cell_type": "code",
   "execution_count": 1,
   "metadata": {},
   "outputs": [],
   "source": [
    "# Import required modules\n",
    "from copy import copy\n",
    "\n",
    "import numpy as np\n",
    "import time\n",
    "\n",
    "from lcode2dPy.plasma3d.initialization import init_plasma\n",
    "from lcode2dPy.push_solver_3d import PushAndSolver3d\n",
    "\n",
    "from lcode2dPy.beam3d import beam\n",
    "from lcode2dPy.alt_beam_generator.beam_generator import generate_beam\n",
    "from lcode2dPy.alt_beam_generator.beam_shape import BeamShape, BeamSegmentShape\n",
    "\n",
    "from lcode2dPy.config.default_config import default_config "
   ]
  },
  {
   "cell_type": "code",
   "execution_count": 2,
   "metadata": {},
   "outputs": [],
   "source": [
    "# Create a config\n",
    "config = copy(default_config)\n",
    "\n",
    "config.set('geometry', '3d')\n",
    "\n",
    "config.set('window-width-steps', 769)\n",
    "config.set('window-width-step-size', 0.02)\n",
    "config.set('window-width', 769*0.02)\n",
    "\n",
    "config.set('window-length', 0.5)\n",
    "config.set('xi-step', 0.02)\n",
    "\n",
    "config.set('time-limit', 50.5)\n",
    "config.set('time-step', 50)\n",
    "\n",
    "config.set('reflect-padding-steps', 10)\n",
    "config.set('plasma-padding-steps', 10)\n",
    "config.set('plasma-fineness', 2)\n",
    "\n",
    "# Make ready a pusher-solver\n",
    "pusher_solver = PushAndSolver3d(config)"
   ]
  },
  {
   "cell_type": "code",
   "execution_count": 3,
   "metadata": {},
   "outputs": [],
   "source": [
    "# Create a beam\n",
    "beam_current = 0.01 * (2*np.pi) # WHY 2*np.pi???\n",
    "beam_shape = BeamShape(0.01 * 2*np.pi, 2000)\n",
    "\n",
    "beam_segment = BeamSegmentShape()\n",
    "beam_shape.add_segment(beam_segment)\n",
    "\n",
    "beam_particles = generate_beam(config, beam_shape)\n",
    "\n",
    "np.savez_compressed('beamfile',\n",
    "                    xi =     beam_particles['xi'],\n",
    "                    x =      beam_particles['x'],\n",
    "                    y =      beam_particles['y'],\n",
    "                    p_x =    beam_particles['p_x'],\n",
    "                    p_y =    beam_particles['p_y'],\n",
    "                    p_z =    beam_particles['p_z'],\n",
    "                    q_m =    beam_particles['q_m'],\n",
    "                    q_norm = beam_particles['q_norm'],\n",
    "                    id =     beam_particles['id'])"
   ]
  },
  {
   "cell_type": "code",
   "execution_count": 4,
   "metadata": {},
   "outputs": [],
   "source": [
    "# Load the beam\n",
    "beam_particles = beam.BeamParticles(0)\n",
    "beam_particles.load('beamfile.npz')\n",
    "beam_calculator = beam.BeamCalculator(config, beam_particles)"
   ]
  },
  {
   "cell_type": "code",
   "execution_count": 5,
   "metadata": {},
   "outputs": [
    {
     "output_type": "stream",
     "name": "stdout",
     "text": [
      "xi=+0.0000 +0.0000e+00\n",
      "xi=+0.0200 -1.4893e-07\n",
      "xi=+0.0400 -1.3054e-06\n",
      "xi=+0.0600 -2.6090e-06\n",
      "xi=+0.0800 -5.3539e-06\n",
      "xi=+0.1000 -9.1650e-06\n",
      "xi=+0.1200 -1.4192e-05\n",
      "xi=+0.1400 -2.1024e-05\n",
      "xi=+0.1600 -3.0296e-05\n",
      "xi=+0.1800 -4.1290e-05\n",
      "xi=+0.2000 -5.5457e-05\n",
      "xi=+0.2200 -7.3152e-05\n",
      "xi=+0.2400 -9.4870e-05\n",
      "xi=+0.2600 -1.1852e-04\n",
      "xi=+0.2800 -1.4772e-04\n",
      "xi=+0.3000 -1.7905e-04\n",
      "xi=+0.3200 -2.1559e-04\n",
      "xi=+0.3400 -2.5550e-04\n",
      "xi=+0.3600 -2.9850e-04\n",
      "xi=+0.3800 -3.5112e-04\n",
      "xi=+0.4000 -4.0622e-04\n",
      "xi=+0.4200 -4.6385e-04\n",
      "xi=+0.4400 -5.3287e-04\n",
      "xi=+0.4600 -6.0543e-04\n",
      "xi=+0.4800 -6.8868e-04\n",
      "xi=+0.5000 -7.7602e-04\n",
      "--- 87.60647797584534 seconds ---\n"
     ]
    }
   ],
   "source": [
    "# Simulation loop\n",
    "start_time = time.time()\n",
    "time_limit = config.getfloat('time-limit')\n",
    "time_step_size = config.getfloat('time-step')\n",
    "time_steps = int(time_limit / time_step_size)\n",
    "\n",
    "for t_i in range(time_steps):\n",
    "    pl_fields, pl_particles, pl_currents, pl_const_arrays = init_plasma(config)\n",
    "\n",
    "    pusher_solver.step_dt(pl_fields, pl_particles, pl_currents, pl_const_arrays,\n",
    "                          beam_particles, beam_calculator)\n",
    "                          \n",
    "    t = t_i * time_step_size\n",
    "    beam_calculator.beam.save(f'beamfile_{t:+09.2f}.npz')\n",
    "\n",
    "print(\"--- %s seconds ---\" % (time.time() - start_time))"
   ]
  },
  {
   "cell_type": "code",
   "execution_count": null,
   "metadata": {},
   "outputs": [],
   "source": [
    "# Should work correctly. Compare results with the test 1 result with a rigid beam:\n",
    "# xi         Ez_00\n",
    "# xi=+0.0000 +0.0000e+00\n",
    "# xi=+0.0200 -1.4490e-07\n",
    "# xi=+0.0400 -7.2443e-07\n",
    "# xi=+0.0600 -2.0278e-06\n",
    "# xi=+0.0800 -4.3436e-06\n",
    "# xi=+0.1000 -7.9592e-06\n",
    "# xi=+0.1200 -1.3161e-05\n",
    "# xi=+0.1400 -2.0233e-05\n",
    "# xi=+0.1600 -2.9458e-05\n",
    "# xi=+0.1800 -4.1116e-05\n",
    "# xi=+0.2000 -5.5486e-05\n",
    "# xi=+0.2200 -7.2842e-05\n",
    "# xi=+0.2400 -9.3456e-05\n",
    "# xi=+0.2600 -1.1760e-04\n",
    "# xi=+0.2800 -1.4553e-04\n",
    "# xi=+0.3000 -1.7751e-04\n",
    "# xi=+0.3200 -2.1381e-04\n",
    "# xi=+0.3400 -2.5467e-04\n",
    "# xi=+0.3600 -3.0033e-04\n",
    "# xi=+0.3800 -3.5105e-04\n",
    "# xi=+0.4000 -4.0706e-04\n",
    "# xi=+0.4200 -4.6859e-04\n",
    "# xi=+0.4400 -5.3587e-04\n",
    "# xi=+0.4600 -6.0912e-04\n",
    "# xi=+0.4800 -6.8855e-04\n",
    "# xi=+0.5000 -7.7437e-04"
   ]
  }
 ]
}
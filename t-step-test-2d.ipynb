{
 "cells": [
  {
   "cell_type": "code",
   "execution_count": 10,
   "metadata": {
    "Collapsed": "false"
   },
   "outputs": [],
   "source": [
    "from copy import copy\n",
    "\n",
    "import matplotlib.pyplot as plt\n",
    "import numpy as np\n",
    "import time\n",
    "\n",
    "from lcode2dPy.plasma.initialization import init_plasma\n",
    "from lcode2dPy.plasma.solver import CylindricalPlasmaSolver\n",
    "from lcode2dPy.beam.beam_slice import BeamSlice\n",
    "from lcode2dPy.beam.beam_io import MemoryBeamSource, MemoryBeamDrain\n",
    "from lcode2dPy.push_solver import PusherAndSolver\n",
    "from lcode2dPy.beam_generator.beam_generator import *\n",
    "\n",
    "from lcode2dPy.config.default_config import default_config"
   ]
  },
  {
   "cell_type": "code",
   "execution_count": 40,
   "metadata": {
    "Collapsed": "false"
   },
   "outputs": [
    {
     "name": "stdout",
     "output_type": "stream",
     "text": [
      "Number of particles: 10027\n",
      "Number of particles in the middle layer: 200\n"
     ]
    }
   ],
   "source": [
    "start_time = time.time()\n",
    "config = copy(default_config)\n",
    "config.set('geometry', 'c')\n",
    "\n",
    "\n",
    "solver = CylindricalPlasmaSolver(config)\n",
    "\n",
    "R_MAX = config.getfloat('window-width')\n",
    "D_R = config.getfloat('window-width-step-size')\n",
    "J_MAX = int(R_MAX / D_R)\n",
    "D_XIP = config.getfloat('xi-step')\n",
    "xi_max = config.getfloat('window-length')\n",
    "r_mesh = np.arange(J_MAX + 1) * D_R\n",
    "\n",
    "# Plasma\n",
    "xi = 0\n",
    "fields, particles = init_plasma(config)\n",
    "\n",
    "# Beam\n",
    "gamma = 426\n",
    "angspread = 1e-5\n",
    "m_proton = 958/0.51\n",
    "Ipeak_kA = 40/1000\n",
    "\n",
    "xi_distr = Gauss(vmin=-10, vmax=0)\n",
    "r_distr = rGauss(vmin=0, vmax=16)\n",
    "angle_distr = Gauss(sigma=angspread, vmin=None, vmax=None)\n",
    "pz_distr = Gauss(gamma*m_proton, gamma*m_proton*1e-4, vmin=None, vmax=None)\n",
    "\n",
    "beam = make_beam(config=config, xi_distr=xi_distr, r_distr=r_distr, ang_distr=angle_distr, pz_distr=pz_distr,\n",
    "                     Ipeak_kA=Ipeak_kA, q_m=1/m_proton)\n",
    "particle_dtype = np.dtype([('xi', 'f8'), ('r', 'f8'), ('p_z', 'f8'), ('p_r', 'f8'), ('M', 'f8'), ('q_m', 'f8'),\n",
    "                           ('q_norm', 'f8'), ('id', 'i8')])\n",
    "beam = np.array(list(map(tuple, beam.to_numpy())), dtype=particle_dtype)\n",
    "\n",
    "_beam = BeamSlice(beam.size, beam)\n",
    "beam_source = MemoryBeamSource(_beam) #TODO mpi_beam_source\n",
    "beam_drain = MemoryBeamDrain()"
   ]
  },
  {
   "cell_type": "code",
   "execution_count": 41,
   "metadata": {
    "Collapsed": "false"
   },
   "outputs": [],
   "source": [
    "PAS = PusherAndSolver(config)"
   ]
  },
  {
   "cell_type": "code",
   "execution_count": 42,
   "metadata": {
    "Collapsed": "false"
   },
   "outputs": [
    {
     "name": "stdout",
     "output_type": "stream",
     "text": [
      "xi=-0.000000 Ez=-5.163145e-10 N=1\n",
      "xi=-5.000000 Ez=2.266147e-03 N=1\n",
      "xi=-10.000000 Ez=4.447394e-03 N=1\n"
     ]
    }
   ],
   "source": [
    "particles, fields = PAS.step_dt(particles, fields, beam_source, beam_drain, 0)"
   ]
  },
  {
   "cell_type": "code",
   "execution_count": 31,
   "metadata": {
    "Collapsed": "false"
   },
   "outputs": [
    {
     "name": "stdout",
     "output_type": "stream",
     "text": [
      "Number of particles: 10027\n",
      "Number of particles in the middle layer: 200\n"
     ]
    }
   ],
   "source": [
    "beam = make_beam(config=config, xi_distr=xi_distr, r_distr=r_distr, ang_distr=angle_distr, pz_distr=pz_distr,\n",
    "                     Ipeak_kA=Ipeak_kA, q_m=1/m_proton)\n",
    "particle_dtype = np.dtype([('xi', 'f8'), ('r', 'f8'), ('p_z', 'f8'), ('p_r', 'f8'), ('M', 'f8'), ('q_m', 'f8'),\n",
    "                           ('q_norm', 'f8'), ('id', 'i8')])\n",
    "beam = np.array(list(map(tuple, beam.to_numpy())), dtype=particle_dtype)\n",
    "\n",
    "_beam = BeamSlice(beam.size, beam)\n",
    "beam_source = MemoryBeamSource(_beam) #TODO mpi_beam_source\n",
    "beam_drain = MemoryBeamDrain()"
   ]
  },
  {
   "cell_type": "code",
   "execution_count": 32,
   "metadata": {
    "Collapsed": "false"
   },
   "outputs": [],
   "source": [
    "fields, particles = init_plasma(config)"
   ]
  },
  {
   "cell_type": "code",
   "execution_count": 33,
   "metadata": {
    "Collapsed": "false"
   },
   "outputs": [
    {
     "name": "stdout",
     "output_type": "stream",
     "text": [
      "xi=-0.000000 Ez=-5.163145e-10 N=1\n",
      "xi=-5.000000 Ez=2.225495e-03 N=1\n",
      "xi=-10.000000 Ez=4.461646e-03 N=1\n"
     ]
    }
   ],
   "source": [
    "particles, fields = PAS.step_dt(particles, fields, beam_source, beam_drain, 0)"
   ]
  },
  {
   "cell_type": "code",
   "execution_count": 11,
   "metadata": {
    "Collapsed": "false"
   },
   "outputs": [
    {
     "data": {
      "text/plain": [
       "[<matplotlib.lines.Line2D at 0x7ff0b636bcd0>]"
      ]
     },
     "execution_count": 11,
     "metadata": {},
     "output_type": "execute_result"
    },
    {
     "data": {
      "image/png": "[encoded data removed]",
      "text/plain": [
       "<Figure size 432x288 with 1 Axes>"
      ]
     },
     "metadata": {
      "needs_background": "light"
     },
     "output_type": "display_data"
    }
   ],
   "source": [
    "plt.plot(particles.r, 'o')"
   ]
  },
  {
   "cell_type": "code",
   "execution_count": 44,
   "metadata": {
    "Collapsed": "false"
   },
   "outputs": [
    {
     "data": {
      "text/plain": [
       "array([(-1.93866207e-04, 1.96299872, 800191.54749898,  6.88082734,  13.97614101, 0.00053236, 2.34833915e-05,     0),\n",
       "       (-3.40703798e-02, 1.16905435, 800270.84530705, -2.13330639, -10.23745237, 0.00053236, 2.34833915e-05,   271),\n",
       "       (-3.39453531e-02, 1.65192636, 800108.58156189,  4.4099173 ,   2.95504683, 0.00053236, 2.34833915e-05,   270),\n",
       "       ...,\n",
       "       (-3.61609315e+00, 0.55501781, 800206.71999671,  9.85047638,   3.11629414, 0.00053236, 2.34833915e-05, 10024),\n",
       "       (-3.71979168e+00, 2.01816507, 800111.93049007,  5.98397366, -25.61478773, 0.00053236, 2.34833915e-05, 10025),\n",
       "       (-3.89133915e+00, 0.32358659, 800174.137536  ,  5.20951291,  -2.2991208 , 0.00053236, 2.34833915e-05, 10026)],\n",
       "      dtype=[('xi', '<f8'), ('r', '<f8'), ('p_z', '<f8'), ('p_r', '<f8'), ('M', '<f8'), ('q_m', '<f8'), ('q_norm', '<f8'), ('id', '<i8')])"
      ]
     },
     "execution_count": 44,
     "metadata": {},
     "output_type": "execute_result"
    }
   ],
   "source": [
    "new_beam"
   ]
  },
  {
   "cell_type": "code",
   "execution_count": 43,
   "metadata": {
    "Collapsed": "false"
   },
   "outputs": [],
   "source": [
    "new_beam=beam_drain.beam_slice()"
   ]
  },
  {
   "cell_type": "code",
   "execution_count": 6,
   "metadata": {
    "Collapsed": "false"
   },
   "outputs": [
    {
     "data": {
      "text/plain": [
       "<Figure size 640x480 with 1 Axes>"
      ]
     },
     "metadata": {},
     "output_type": "display_data"
    },
    {
     "data": {
      "text/plain": [
       "<Figure size 640x480 with 1 Axes>"
      ]
     },
     "metadata": {},
     "output_type": "display_data"
    }
   ],
   "source": [
    "import matplotlib.pyplot as plt\n",
    "plt.hist2d(beam[:-1]['xi'],beam[:-1]['r'],200)\n",
    "plt.title('Generated')\n",
    "plt.show()\n",
    "plt.hist2d(new_beam['xi'],new_beam['r'],200)\n",
    "plt.title('First iteration')\n",
    "plt.show()"
   ]
  },
  {
   "cell_type": "code",
   "execution_count": 10,
   "metadata": {
    "Collapsed": "false"
   },
   "outputs": [
    {
     "data": {
      "text/plain": [
       "array([(-2.49992847e-05, 0.84314259, 800135.83420655,   4.85041371,   4.07986589, 5.32359081e-04, 2.34833915e-05,     0),\n",
       "       (-4.99985693e-05, 1.77689592, 800114.52068725, -11.97283817,  19.08693634, 5.32359081e-04, 2.34833915e-05,     1),\n",
       "       (-7.49978541e-05, 1.2743257 , 800409.98726181,  15.10705539, -28.16509526, 5.32359081e-04, 2.34833915e-05,     2),\n",
       "       ...,\n",
       "       (-4.10809798e+00, 0.97078229, 800237.88319419,  -1.34948635,   2.63241447, 5.32359081e-04, 2.34833915e-05, 50131),\n",
       "       (-4.26548834e+00, 1.80649106, 800327.74181609,  -7.51620632,  -8.55037773, 5.32359081e-04, 2.34833915e-05, 50132),\n",
       "       (-1.00000000e+05, 0.        ,      0.        ,   0.        ,   0.        , 1.00000000e+00, 0.00000000e+00,     0)],\n",
       "      dtype=[('xi', '<f8'), ('r', '<f8'), ('p_z', '<f8'), ('p_r', '<f8'), ('M', '<f8'), ('q_m', '<f8'), ('q_norm', '<f8'), ('id', '<i8')])"
      ]
     },
     "execution_count": 10,
     "metadata": {},
     "output_type": "execute_result"
    }
   ],
   "source": [
    "beam"
   ]
  },
  {
   "cell_type": "code",
   "execution_count": 11,
   "metadata": {
    "Collapsed": "false"
   },
   "outputs": [],
   "source": [
    "new_beam.sort(order=['id'])"
   ]
  },
  {
   "cell_type": "code",
   "execution_count": 12,
   "metadata": {
    "Collapsed": "false"
   },
   "outputs": [
    {
     "data": {
      "text/plain": [
       "array([(-3.00572633e-04, 0.843749  , 800135.83169435,   4.85387324,   4.0798659 , 0.00053236, 2.34833915e-05,     0),\n",
       "       (-3.25603140e-04, 1.77540004, 800114.51931435, -11.9647214 ,  19.08693635, 0.00053236, 2.34833915e-05,     1),\n",
       "       (-3.50434731e-04, 1.2762161 , 800409.98525234,  15.15483098, -28.16509527, 0.00053236, 2.34833915e-05,     2),\n",
       "       ...,\n",
       "       (-4.01371775e+00, 2.07371169, 800343.39009238,  -7.2656822 ,  11.59297107, 0.00053236, 2.34833915e-05, 50130),\n",
       "       (-4.10837348e+00, 0.97061624, 800238.22198097,  -1.30813837,   2.63240763, 0.00053236, 2.34833915e-05, 50131),\n",
       "       (-4.26576378e+00, 1.80555586, 800327.91878058,  -7.45324637,  -8.55035957, 0.00053236, 2.34833915e-05, 50132)],\n",
       "      dtype=[('xi', '<f8'), ('r', '<f8'), ('p_z', '<f8'), ('p_r', '<f8'), ('M', '<f8'), ('q_m', '<f8'), ('q_norm', '<f8'), ('id', '<i8')])"
      ]
     },
     "execution_count": 12,
     "metadata": {},
     "output_type": "execute_result"
    }
   ],
   "source": [
    "new_beam"
   ]
  },
  {
   "cell_type": "code",
   "execution_count": 13,
   "metadata": {
    "Collapsed": "false"
   },
   "outputs": [
    {
     "data": {
      "image/png": "[encoded data removed]",
      "text/plain": [
       "<Figure size 432x288 with 1 Axes>"
      ]
     },
     "metadata": {
      "needs_background": "light"
     },
     "output_type": "display_data"
    },
    {
     "data": {
      "image/png": "[encoded data removed]",
      "text/plain": [
       "<Figure size 432x288 with 1 Axes>"
      ]
     },
     "metadata": {
      "needs_background": "light"
     },
     "output_type": "display_data"
    }
   ],
   "source": [
    "plt.plot(np.array(fields.E_z))\n",
    "plt.title('E_z')\n",
    "plt.show()\n",
    "plt.plot(np.array(fields.E_r))\n",
    "plt.title('E_r')\n",
    "plt.show()"
   ]
  },
  {
   "cell_type": "code",
   "execution_count": null,
   "metadata": {
    "Collapsed": "false"
   },
   "outputs": [],
   "source": []
  }
 ],
 "metadata": {
  "kernelspec": {
   "display_name": "Python 3",
   "language": "python",
   "name": "python3"
  },
  "language_info": {
   "codemirror_mode": {
    "name": "ipython",
    "version": 3
   },
   "file_extension": ".py",
   "mimetype": "text/x-python",
   "name": "python",
   "nbconvert_exporter": "python",
   "pygments_lexer": "ipython3",
   "version": "3.7.4"
  }
 },
 "nbformat": 4,
 "nbformat_minor": 4
}